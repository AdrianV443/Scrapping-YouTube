{
 "cells": [
  {
   "cell_type": "markdown",
   "id": "b1583b5a",
   "metadata": {},
   "source": [
    "## Librerías"
   ]
  },
  {
   "cell_type": "code",
   "execution_count": 1,
   "id": "5f7ea66a",
   "metadata": {},
   "outputs": [],
   "source": [
    "from selenium import webdriver\n",
    "from bs4 import BeautifulSoup\n",
    "import pandas as pd"
   ]
  },
  {
   "cell_type": "markdown",
   "id": "be02bc79",
   "metadata": {},
   "source": [
    "### URL de extracción y PATH(donde está ubicado el driver para abrir el buscador)"
   ]
  },
  {
   "cell_type": "code",
   "execution_count": 2,
   "id": "6baca41d",
   "metadata": {},
   "outputs": [],
   "source": [
    "urls = [ \n",
    "    'https://www.youtube.com/channel/UCufpgYibos8dDFDms5SHxJg/videos'\n",
    "] \n",
    "PATH = \"C:\\Program Files (x86)\\chromedriver.exe\""
   ]
  },
  {
   "cell_type": "markdown",
   "id": "ccecd25d",
   "metadata": {},
   "source": [
    "### Con función *main()*"
   ]
  },
  {
   "cell_type": "markdown",
   "id": "d2a64103",
   "metadata": {},
   "source": [
    "#### Creamos una función que nos extraiga los datos que necesitamos y finalmente la podamos ejecutar"
   ]
  },
  {
   "cell_type": "code",
   "execution_count": 3,
   "id": "f3b3f1f7",
   "metadata": {},
   "outputs": [
    {
     "name": "stdout",
     "output_type": "stream",
     "text": [
      "Channel: https://www.youtube.com/channel/UCufpgYibos8dDFDms5SHxJg/videos\n",
      "\n",
      "Sin Libros #17 Pablo Salum (Ley Antisectas)\t1,466 vistas\thace 10 horas\thttps://www.youtube.com/watch?v=EcAoZ9vlGq8\n",
      "\n",
      "Herejes el Podcast Sin Libros #16 Tato Alexander\t5,986 vistas\thace 1 semana\thttps://www.youtube.com/watch?v=5ytJClj7TC0\n",
      "\n",
      "Herejes el podcast Sin Libros #15 Nicho Peñavera\t6,996 vistas\thace 2 semanas\thttps://www.youtube.com/watch?v=junnkQrxNtc\n",
      "\n",
      "Herejes El Podcast Sin Libros #14 Ruffinelli\t3,976 vistas\thace 3 semanas\thttps://www.youtube.com/watch?v=1d_Iq54tLok\n",
      "\n",
      "Herejes y la Mesa Redonda Con Patreons #1\t4,366 vistas\tTransmitido hace 3 semanas\thttps://www.youtube.com/watch?v=aMy3rNPhGP4\n",
      "\n",
      "Herejes el Podcast Sin Libros #13 Ricardo O'Farrill\t15,649 vistas\thace 4 semanas\thttps://www.youtube.com/watch?v=Num5GB2-zzo\n",
      "\n",
      "Sin Libros #12 Silvia Ortega Hadad (activista Pro Derechos de la Maternidad y la infancia)\t3,070 vistas\thace 1 mes\thttps://www.youtube.com/watch?v=-9ffK9FHbtM\n",
      "\n",
      "Hellmail #5 con Juan Zapata\t998 vistas\tTransmitido hace 1 mes\thttps://www.youtube.com/watch?v=S8aQNWNSxg8\n",
      "\n",
      "Sin Libros #11 Alonso Álvarez (Director de Cine y Tv)\t1,852 vistas\thace 1 mes\thttps://www.youtube.com/watch?v=DHw4VZZtlO4\n",
      "\n",
      "Sin Libros  #10 Paty Bacelis\t5,349 vistas\thace 1 mes\thttps://www.youtube.com/watch?v=UhuZ8c3Vr0A\n",
      "\n",
      "Sin Libros #9 Iker Linazasoro (Historia para Tontos)\t2,976 vistas\thace 1 mes\thttps://www.youtube.com/watch?v=uo1IZsTl-hM\n",
      "\n",
      "En vivo con Bobby! Genocidio en Canadá\t5,281 vistas\tTransmitido hace 1 mes\thttps://www.youtube.com/watch?v=eKm3KIi1RPQ\n",
      "\n",
      "Sin Libros #8 Gabe Ruiz\t36,495 vistas\thace 2 meses\thttps://www.youtube.com/watch?v=7p-l8k-ej-4\n",
      "\n",
      "Sin Libros #7 Coco Celis\t9,712 vistas\thace 2 meses\thttps://www.youtube.com/watch?v=iBVwKZcr-Rc\n",
      "\n",
      "Herejes, El Podcast // E058: Mitos y Verdades de la Economía (con Luis Gonzalí) (Reupload)\t6,297 vistas\thace 2 meses\thttps://www.youtube.com/watch?v=SyPxAHXX9F8\n",
      "\n",
      "Sin Libros #6 Ana Julia Yeyé\t7,480 vistas\thace 2 meses\thttps://www.youtube.com/watch?v=Zeg1q_x0cJU\n",
      "\n",
      "Hellmail #4 con Nuestro Patreon José\t1,334 vistas\tTransmitido hace 2 meses\thttps://www.youtube.com/watch?v=5ZJjvHXCMfE\n",
      "\n",
      "Sin Libros #5 Eduardo \"Lolo\" Espinosa\t25,024 vistas\thace 2 meses\thttps://www.youtube.com/watch?v=uEquUY5bNWk\n",
      "\n",
      "Herejes el Podcast: Sin Libros #4 Maru Arias (manager/productora)\t3,254 vistas\thace 2 meses\thttps://www.youtube.com/watch?v=TY2rdn2jfL8\n",
      "\n",
      "Herejes, El Podcast // E057: Cienciología, delirio libre de impuestos (con Lorx) (REUPLOAD)\t21,624 vistas\thace 3 meses\thttps://www.youtube.com/watch?v=DR0WF6RUSWU\n"
     ]
    }
   ],
   "source": [
    "def main():\n",
    "    #Damos dirección al webdriver donde se encuentra instalado Chrome por medio de la variable PATH\n",
    "    driver = webdriver.Chrome(PATH)\n",
    "    for url in urls:\n",
    "        #El driver abrirá y controlará remotamente la página donde se extraerán los datos\n",
    "        driver.get('https://www.youtube.com/channel/UCufpgYibos8dDFDms5SHxJg/videos'.format(url))\n",
    "        # Le damos instrucciones para codificar la pagina y nos pueda mostrar los resultados que leerá del contenido lxml\n",
    "        content = driver.page_source.encode('utf-8').strip()\n",
    "        soup = BeautifulSoup(content, 'lxml') \n",
    "        # Extraer título\n",
    "        titles = soup.findAll('a', id='video-title') \n",
    "        # Extraer views\n",
    "        views = soup.findAll('span', class_='style-scope ytd-grid-video-renderer') \n",
    "        # Extraer fecha de publicación\n",
    "        video_urls = soup.findAll('a', id='video-title') \n",
    "        # Imprimimos el canal con formato URL para poder acceder dando click desde aquí\n",
    "        print('Channel: {}'.format(url)) \n",
    "        # Variables para controlar el tamaño o la cantidad de información que extraeremos de la página\n",
    "        i = 0 \n",
    "        j = 0 \n",
    "        # Bucle para imprimir cada elemento extraído y ordenado del más reciente al límite establecido, en este caso el elemento 20\n",
    "        for title in titles[:20]: \n",
    "            print('\\n{}\\t{}\\t{}\\thttps://www.youtube.com{}'.format(title.text, \n",
    "                                                                   views[i].text,views[i+1].text,video_urls[j].get('href'))) \n",
    "            i += 2\n",
    "            j += 1\n",
    "  \n",
    "    #Ejecutamos la función\n",
    "main() "
   ]
  },
  {
   "cell_type": "markdown",
   "id": "61ee1801",
   "metadata": {},
   "source": [
    "### Sin funcion *main()*"
   ]
  },
  {
   "cell_type": "markdown",
   "id": "88821d73",
   "metadata": {},
   "source": [
    "#### Al extraer los datos podemos ordenarlos en un DataFrame para observarlos mejor y posteriormente procesarlos"
   ]
  },
  {
   "cell_type": "code",
   "execution_count": 6,
   "id": "353ea026",
   "metadata": {},
   "outputs": [
    {
     "name": "stdout",
     "output_type": "stream",
     "text": [
      "Channel: https://www.youtube.com/channel/UCufpgYibos8dDFDms5SHxJg/videos\n"
     ]
    }
   ],
   "source": [
    "driver = webdriver.Chrome(PATH) \n",
    "for url in urls: \n",
    "    driver.get('https://www.youtube.com/channel/UCufpgYibos8dDFDms5SHxJg/videos'.format(url)) \n",
    "    content = driver.page_source.encode('utf-8').strip() \n",
    "    soup = BeautifulSoup(content, 'lxml') \n",
    "    titles = soup.findAll('a', id='video-title') \n",
    "    views = soup.findAll( 'span', class_='style-scope ytd-grid-video-renderer') \n",
    "    video_urls = soup.findAll('a', id='video-title') \n",
    "    print('Channel: {}'.format(url))\n",
    "    print ('Complete...')\n",
    "    i = -2\n",
    "    j = 0 \n",
    "    # Creamos listas vacías para que aquí se almacenen nuestros elementos extraídos\n",
    "    titulos=[]\n",
    "    # Cada una tiene un nombre específico para cada elemento\n",
    "    vistas=[]\n",
    "    subidas=[]\n",
    "    link=[]\n",
    "    #Posteriormente, durante el bucle, añadiremos los elementos uno por uno a su lista correspondiente\n",
    "    for title in titles[:20]:\n",
    "        i+=2\n",
    "        j += 1\n",
    "        titulos.append(title.text)\n",
    "        vistas.append(views[i].text)\n",
    "        subidas.append(views[i+1].text)\n",
    "        link.append(video_urls[j].get('href'))"
   ]
  },
  {
   "cell_type": "markdown",
   "id": "98d73d80",
   "metadata": {},
   "source": [
    "Creando el *DataFrame*\n",
    "\n",
    "La variable *elements* nos crea una tupla, es decir, un conjunto de listas para poder transformarlas en un único DataFrame con pandas llamado df"
   ]
  },
  {
   "cell_type": "code",
   "execution_count": 48,
   "id": "01d1c247",
   "metadata": {
    "scrolled": true
   },
   "outputs": [
    {
     "data": {
      "text/html": [
       "<div>\n",
       "<style scoped>\n",
       "    .dataframe tbody tr th:only-of-type {\n",
       "        vertical-align: middle;\n",
       "    }\n",
       "\n",
       "    .dataframe tbody tr th {\n",
       "        vertical-align: top;\n",
       "    }\n",
       "\n",
       "    .dataframe thead th {\n",
       "        text-align: right;\n",
       "    }\n",
       "</style>\n",
       "<table border=\"1\" class=\"dataframe\">\n",
       "  <thead>\n",
       "    <tr style=\"text-align: right;\">\n",
       "      <th></th>\n",
       "      <th>titulos</th>\n",
       "      <th># vistas</th>\n",
       "      <th>publicado</th>\n",
       "      <th>links</th>\n",
       "    </tr>\n",
       "  </thead>\n",
       "  <tbody>\n",
       "    <tr>\n",
       "      <th>0</th>\n",
       "      <td>Sin Libros #17 Pablo Salum (Ley Antisectas)</td>\n",
       "      <td>1,509 vistas</td>\n",
       "      <td>hace 10 horas</td>\n",
       "      <td>/watch?v=5ytJClj7TC0</td>\n",
       "    </tr>\n",
       "    <tr>\n",
       "      <th>1</th>\n",
       "      <td>Herejes el Podcast Sin Libros #16 Tato Alexander</td>\n",
       "      <td>5,986 vistas</td>\n",
       "      <td>hace 1 semana</td>\n",
       "      <td>/watch?v=junnkQrxNtc</td>\n",
       "    </tr>\n",
       "    <tr>\n",
       "      <th>2</th>\n",
       "      <td>Herejes el podcast Sin Libros #15 Nicho Peñavera</td>\n",
       "      <td>6,996 vistas</td>\n",
       "      <td>hace 2 semanas</td>\n",
       "      <td>/watch?v=1d_Iq54tLok</td>\n",
       "    </tr>\n",
       "    <tr>\n",
       "      <th>3</th>\n",
       "      <td>Herejes El Podcast Sin Libros #14 Ruffinelli</td>\n",
       "      <td>3,978 vistas</td>\n",
       "      <td>hace 3 semanas</td>\n",
       "      <td>/watch?v=aMy3rNPhGP4</td>\n",
       "    </tr>\n",
       "    <tr>\n",
       "      <th>4</th>\n",
       "      <td>Herejes y la Mesa Redonda Con Patreons #1</td>\n",
       "      <td>4,369 vistas</td>\n",
       "      <td>Transmitido hace 3 semanas</td>\n",
       "      <td>/watch?v=Num5GB2-zzo</td>\n",
       "    </tr>\n",
       "    <tr>\n",
       "      <th>5</th>\n",
       "      <td>Herejes el Podcast Sin Libros #13 Ricardo O'Fa...</td>\n",
       "      <td>15,651 vistas</td>\n",
       "      <td>hace 4 semanas</td>\n",
       "      <td>/watch?v=-9ffK9FHbtM</td>\n",
       "    </tr>\n",
       "    <tr>\n",
       "      <th>6</th>\n",
       "      <td>Sin Libros #12 Silvia Ortega Hadad (activista ...</td>\n",
       "      <td>3,070 vistas</td>\n",
       "      <td>hace 1 mes</td>\n",
       "      <td>/watch?v=S8aQNWNSxg8</td>\n",
       "    </tr>\n",
       "    <tr>\n",
       "      <th>7</th>\n",
       "      <td>Hellmail #5 con Juan Zapata</td>\n",
       "      <td>998 vistas</td>\n",
       "      <td>Transmitido hace 1 mes</td>\n",
       "      <td>/watch?v=DHw4VZZtlO4</td>\n",
       "    </tr>\n",
       "    <tr>\n",
       "      <th>8</th>\n",
       "      <td>Sin Libros #11 Alonso Álvarez (Director de Cin...</td>\n",
       "      <td>1,852 vistas</td>\n",
       "      <td>hace 1 mes</td>\n",
       "      <td>/watch?v=UhuZ8c3Vr0A</td>\n",
       "    </tr>\n",
       "    <tr>\n",
       "      <th>9</th>\n",
       "      <td>Sin Libros  #10 Paty Bacelis</td>\n",
       "      <td>5,349 vistas</td>\n",
       "      <td>hace 1 mes</td>\n",
       "      <td>/watch?v=uo1IZsTl-hM</td>\n",
       "    </tr>\n",
       "    <tr>\n",
       "      <th>10</th>\n",
       "      <td>Sin Libros #9 Iker Linazasoro (Historia para T...</td>\n",
       "      <td>2,976 vistas</td>\n",
       "      <td>hace 1 mes</td>\n",
       "      <td>/watch?v=eKm3KIi1RPQ</td>\n",
       "    </tr>\n",
       "    <tr>\n",
       "      <th>11</th>\n",
       "      <td>En vivo con Bobby! Genocidio en Canadá</td>\n",
       "      <td>5,281 vistas</td>\n",
       "      <td>Transmitido hace 1 mes</td>\n",
       "      <td>/watch?v=7p-l8k-ej-4</td>\n",
       "    </tr>\n",
       "    <tr>\n",
       "      <th>12</th>\n",
       "      <td>Sin Libros #8 Gabe Ruiz</td>\n",
       "      <td>36,495 vistas</td>\n",
       "      <td>hace 2 meses</td>\n",
       "      <td>/watch?v=iBVwKZcr-Rc</td>\n",
       "    </tr>\n",
       "    <tr>\n",
       "      <th>13</th>\n",
       "      <td>Sin Libros #7 Coco Celis</td>\n",
       "      <td>9,714 vistas</td>\n",
       "      <td>hace 2 meses</td>\n",
       "      <td>/watch?v=SyPxAHXX9F8</td>\n",
       "    </tr>\n",
       "    <tr>\n",
       "      <th>14</th>\n",
       "      <td>Herejes, El Podcast // E058: Mitos y Verdades ...</td>\n",
       "      <td>6,297 vistas</td>\n",
       "      <td>hace 2 meses</td>\n",
       "      <td>/watch?v=Zeg1q_x0cJU</td>\n",
       "    </tr>\n",
       "    <tr>\n",
       "      <th>15</th>\n",
       "      <td>Sin Libros #6 Ana Julia Yeyé</td>\n",
       "      <td>7,480 vistas</td>\n",
       "      <td>hace 2 meses</td>\n",
       "      <td>/watch?v=5ZJjvHXCMfE</td>\n",
       "    </tr>\n",
       "    <tr>\n",
       "      <th>16</th>\n",
       "      <td>Hellmail #4 con Nuestro Patreon José</td>\n",
       "      <td>1,334 vistas</td>\n",
       "      <td>Transmitido hace 2 meses</td>\n",
       "      <td>/watch?v=uEquUY5bNWk</td>\n",
       "    </tr>\n",
       "    <tr>\n",
       "      <th>17</th>\n",
       "      <td>Sin Libros #5 Eduardo \"Lolo\" Espinosa</td>\n",
       "      <td>25,024 vistas</td>\n",
       "      <td>hace 2 meses</td>\n",
       "      <td>/watch?v=TY2rdn2jfL8</td>\n",
       "    </tr>\n",
       "    <tr>\n",
       "      <th>18</th>\n",
       "      <td>Herejes el Podcast: Sin Libros #4 Maru Arias (...</td>\n",
       "      <td>3,255 vistas</td>\n",
       "      <td>hace 2 meses</td>\n",
       "      <td>/watch?v=DR0WF6RUSWU</td>\n",
       "    </tr>\n",
       "    <tr>\n",
       "      <th>19</th>\n",
       "      <td>Herejes, El Podcast // E057: Cienciología, del...</td>\n",
       "      <td>21,624 vistas</td>\n",
       "      <td>hace 3 meses</td>\n",
       "      <td>/watch?v=9ercALVun-A</td>\n",
       "    </tr>\n",
       "  </tbody>\n",
       "</table>\n",
       "</div>"
      ],
      "text/plain": [
       "                                              titulos       # vistas  \\\n",
       "0         Sin Libros #17 Pablo Salum (Ley Antisectas)   1,509 vistas   \n",
       "1    Herejes el Podcast Sin Libros #16 Tato Alexander   5,986 vistas   \n",
       "2    Herejes el podcast Sin Libros #15 Nicho Peñavera   6,996 vistas   \n",
       "3        Herejes El Podcast Sin Libros #14 Ruffinelli   3,978 vistas   \n",
       "4           Herejes y la Mesa Redonda Con Patreons #1   4,369 vistas   \n",
       "5   Herejes el Podcast Sin Libros #13 Ricardo O'Fa...  15,651 vistas   \n",
       "6   Sin Libros #12 Silvia Ortega Hadad (activista ...   3,070 vistas   \n",
       "7                         Hellmail #5 con Juan Zapata     998 vistas   \n",
       "8   Sin Libros #11 Alonso Álvarez (Director de Cin...   1,852 vistas   \n",
       "9                        Sin Libros  #10 Paty Bacelis   5,349 vistas   \n",
       "10  Sin Libros #9 Iker Linazasoro (Historia para T...   2,976 vistas   \n",
       "11             En vivo con Bobby! Genocidio en Canadá   5,281 vistas   \n",
       "12                            Sin Libros #8 Gabe Ruiz  36,495 vistas   \n",
       "13                           Sin Libros #7 Coco Celis   9,714 vistas   \n",
       "14  Herejes, El Podcast // E058: Mitos y Verdades ...   6,297 vistas   \n",
       "15                       Sin Libros #6 Ana Julia Yeyé   7,480 vistas   \n",
       "16               Hellmail #4 con Nuestro Patreon José   1,334 vistas   \n",
       "17              Sin Libros #5 Eduardo \"Lolo\" Espinosa  25,024 vistas   \n",
       "18  Herejes el Podcast: Sin Libros #4 Maru Arias (...   3,255 vistas   \n",
       "19  Herejes, El Podcast // E057: Cienciología, del...  21,624 vistas   \n",
       "\n",
       "                     publicado                 links  \n",
       "0                hace 10 horas  /watch?v=5ytJClj7TC0  \n",
       "1                hace 1 semana  /watch?v=junnkQrxNtc  \n",
       "2               hace 2 semanas  /watch?v=1d_Iq54tLok  \n",
       "3               hace 3 semanas  /watch?v=aMy3rNPhGP4  \n",
       "4   Transmitido hace 3 semanas  /watch?v=Num5GB2-zzo  \n",
       "5               hace 4 semanas  /watch?v=-9ffK9FHbtM  \n",
       "6                   hace 1 mes  /watch?v=S8aQNWNSxg8  \n",
       "7       Transmitido hace 1 mes  /watch?v=DHw4VZZtlO4  \n",
       "8                   hace 1 mes  /watch?v=UhuZ8c3Vr0A  \n",
       "9                   hace 1 mes  /watch?v=uo1IZsTl-hM  \n",
       "10                  hace 1 mes  /watch?v=eKm3KIi1RPQ  \n",
       "11      Transmitido hace 1 mes  /watch?v=7p-l8k-ej-4  \n",
       "12                hace 2 meses  /watch?v=iBVwKZcr-Rc  \n",
       "13                hace 2 meses  /watch?v=SyPxAHXX9F8  \n",
       "14                hace 2 meses  /watch?v=Zeg1q_x0cJU  \n",
       "15                hace 2 meses  /watch?v=5ZJjvHXCMfE  \n",
       "16    Transmitido hace 2 meses  /watch?v=uEquUY5bNWk  \n",
       "17                hace 2 meses  /watch?v=TY2rdn2jfL8  \n",
       "18                hace 2 meses  /watch?v=DR0WF6RUSWU  \n",
       "19                hace 3 meses  /watch?v=9ercALVun-A  "
      ]
     },
     "execution_count": 48,
     "metadata": {},
     "output_type": "execute_result"
    }
   ],
   "source": [
    "elements = list(zip(titulos,vistas, subidas, link))\n",
    "df = pd.DataFrame(elements, columns=['titulos','# vistas','publicado','links'])\n",
    "df"
   ]
  },
  {
   "cell_type": "markdown",
   "id": "e1d0f2aa",
   "metadata": {},
   "source": [
    "#### Limpiando los datos que contiene la columna *# vistas*"
   ]
  },
  {
   "cell_type": "markdown",
   "id": "9ba48006",
   "metadata": {},
   "source": [
    "* Convertimos de object a string\n",
    "* Reemplazamos la palabra \"vistas\"\n",
    "* Removemos la coma de los números\n",
    "* Eliminamos los espacios dentro de la cadena\n",
    "* Convertimos a tipo numérico"
   ]
  },
  {
   "cell_type": "code",
   "execution_count": 49,
   "id": "f953be5f",
   "metadata": {},
   "outputs": [
    {
     "data": {
      "text/html": [
       "<div>\n",
       "<style scoped>\n",
       "    .dataframe tbody tr th:only-of-type {\n",
       "        vertical-align: middle;\n",
       "    }\n",
       "\n",
       "    .dataframe tbody tr th {\n",
       "        vertical-align: top;\n",
       "    }\n",
       "\n",
       "    .dataframe thead th {\n",
       "        text-align: right;\n",
       "    }\n",
       "</style>\n",
       "<table border=\"1\" class=\"dataframe\">\n",
       "  <thead>\n",
       "    <tr style=\"text-align: right;\">\n",
       "      <th></th>\n",
       "      <th>titulos</th>\n",
       "      <th># vistas</th>\n",
       "      <th>publicado</th>\n",
       "      <th>links</th>\n",
       "    </tr>\n",
       "  </thead>\n",
       "  <tbody>\n",
       "    <tr>\n",
       "      <th>0</th>\n",
       "      <td>Sin Libros #17 Pablo Salum (Ley Antisectas)</td>\n",
       "      <td>1509</td>\n",
       "      <td>hace 10 horas</td>\n",
       "      <td>/watch?v=5ytJClj7TC0</td>\n",
       "    </tr>\n",
       "    <tr>\n",
       "      <th>1</th>\n",
       "      <td>Herejes el Podcast Sin Libros #16 Tato Alexander</td>\n",
       "      <td>5986</td>\n",
       "      <td>hace 1 semana</td>\n",
       "      <td>/watch?v=junnkQrxNtc</td>\n",
       "    </tr>\n",
       "    <tr>\n",
       "      <th>2</th>\n",
       "      <td>Herejes el podcast Sin Libros #15 Nicho Peñavera</td>\n",
       "      <td>6996</td>\n",
       "      <td>hace 2 semanas</td>\n",
       "      <td>/watch?v=1d_Iq54tLok</td>\n",
       "    </tr>\n",
       "  </tbody>\n",
       "</table>\n",
       "</div>"
      ],
      "text/plain": [
       "                                            titulos  # vistas       publicado  \\\n",
       "0       Sin Libros #17 Pablo Salum (Ley Antisectas)      1509   hace 10 horas   \n",
       "1  Herejes el Podcast Sin Libros #16 Tato Alexander      5986   hace 1 semana   \n",
       "2  Herejes el podcast Sin Libros #15 Nicho Peñavera      6996  hace 2 semanas   \n",
       "\n",
       "                  links  \n",
       "0  /watch?v=5ytJClj7TC0  \n",
       "1  /watch?v=junnkQrxNtc  \n",
       "2  /watch?v=1d_Iq54tLok  "
      ]
     },
     "execution_count": 49,
     "metadata": {},
     "output_type": "execute_result"
    }
   ],
   "source": [
    "df['# vistas']=df['# vistas'].astype('str')\n",
    "df['# vistas'] = df['# vistas'].str.replace('vistas','')\n",
    "df['# vistas'] = df['# vistas'].str.replace(',','')\n",
    "df['# vistas'] = df['# vistas'].str.strip()\n",
    "df['# vistas'] = pd.to_numeric(df['# vistas'])\n",
    "df.head(3)"
   ]
  },
  {
   "cell_type": "code",
   "execution_count": 50,
   "id": "31195480",
   "metadata": {},
   "outputs": [
    {
     "data": {
      "text/plain": [
       "titulos      object\n",
       "# vistas      int64\n",
       "publicado    object\n",
       "links        object\n",
       "dtype: object"
      ]
     },
     "execution_count": 50,
     "metadata": {},
     "output_type": "execute_result"
    }
   ],
   "source": [
    "df.dtypes"
   ]
  },
  {
   "cell_type": "markdown",
   "id": "7637f7dc",
   "metadata": {},
   "source": [
    "#### Guardamos en un CSV"
   ]
  },
  {
   "cell_type": "code",
   "execution_count": 52,
   "id": "beff351c",
   "metadata": {},
   "outputs": [],
   "source": [
    "df.to_csv('videos_herejes',header=True, index=False)"
   ]
  },
  {
   "cell_type": "code",
   "execution_count": 60,
   "id": "46469b37",
   "metadata": {},
   "outputs": [
    {
     "data": {
      "text/plain": [
       "(8461.9, 998, 36495)"
      ]
     },
     "execution_count": 60,
     "metadata": {},
     "output_type": "execute_result"
    }
   ],
   "source": [
    "df['# vistas'].mean(), df['# vistas'].min(), df['# vistas'].max()"
   ]
  },
  {
   "cell_type": "markdown",
   "id": "3487d057",
   "metadata": {},
   "source": [
    "#### Menos visto"
   ]
  },
  {
   "cell_type": "code",
   "execution_count": 63,
   "id": "42f12af6",
   "metadata": {},
   "outputs": [
    {
     "data": {
      "text/html": [
       "<div>\n",
       "<style scoped>\n",
       "    .dataframe tbody tr th:only-of-type {\n",
       "        vertical-align: middle;\n",
       "    }\n",
       "\n",
       "    .dataframe tbody tr th {\n",
       "        vertical-align: top;\n",
       "    }\n",
       "\n",
       "    .dataframe thead th {\n",
       "        text-align: right;\n",
       "    }\n",
       "</style>\n",
       "<table border=\"1\" class=\"dataframe\">\n",
       "  <thead>\n",
       "    <tr style=\"text-align: right;\">\n",
       "      <th></th>\n",
       "      <th>titulos</th>\n",
       "      <th># vistas</th>\n",
       "      <th>publicado</th>\n",
       "      <th>links</th>\n",
       "    </tr>\n",
       "  </thead>\n",
       "  <tbody>\n",
       "    <tr>\n",
       "      <th>7</th>\n",
       "      <td>Hellmail #5 con Juan Zapata</td>\n",
       "      <td>998</td>\n",
       "      <td>Transmitido hace 1 mes</td>\n",
       "      <td>/watch?v=DHw4VZZtlO4</td>\n",
       "    </tr>\n",
       "  </tbody>\n",
       "</table>\n",
       "</div>"
      ],
      "text/plain": [
       "                       titulos  # vistas               publicado  \\\n",
       "7  Hellmail #5 con Juan Zapata       998  Transmitido hace 1 mes   \n",
       "\n",
       "                  links  \n",
       "7  /watch?v=DHw4VZZtlO4  "
      ]
     },
     "execution_count": 63,
     "metadata": {},
     "output_type": "execute_result"
    }
   ],
   "source": [
    "df[df['# vistas']==df['# vistas'].min()]"
   ]
  },
  {
   "cell_type": "markdown",
   "id": "84f34e48",
   "metadata": {},
   "source": [
    "#### Más visto"
   ]
  },
  {
   "cell_type": "code",
   "execution_count": 62,
   "id": "1d8c6ae7",
   "metadata": {},
   "outputs": [
    {
     "data": {
      "text/html": [
       "<div>\n",
       "<style scoped>\n",
       "    .dataframe tbody tr th:only-of-type {\n",
       "        vertical-align: middle;\n",
       "    }\n",
       "\n",
       "    .dataframe tbody tr th {\n",
       "        vertical-align: top;\n",
       "    }\n",
       "\n",
       "    .dataframe thead th {\n",
       "        text-align: right;\n",
       "    }\n",
       "</style>\n",
       "<table border=\"1\" class=\"dataframe\">\n",
       "  <thead>\n",
       "    <tr style=\"text-align: right;\">\n",
       "      <th></th>\n",
       "      <th>titulos</th>\n",
       "      <th># vistas</th>\n",
       "      <th>publicado</th>\n",
       "      <th>links</th>\n",
       "    </tr>\n",
       "  </thead>\n",
       "  <tbody>\n",
       "    <tr>\n",
       "      <th>12</th>\n",
       "      <td>Sin Libros #8 Gabe Ruiz</td>\n",
       "      <td>36495</td>\n",
       "      <td>hace 2 meses</td>\n",
       "      <td>/watch?v=iBVwKZcr-Rc</td>\n",
       "    </tr>\n",
       "  </tbody>\n",
       "</table>\n",
       "</div>"
      ],
      "text/plain": [
       "                    titulos  # vistas     publicado                 links\n",
       "12  Sin Libros #8 Gabe Ruiz     36495  hace 2 meses  /watch?v=iBVwKZcr-Rc"
      ]
     },
     "execution_count": 62,
     "metadata": {},
     "output_type": "execute_result"
    }
   ],
   "source": [
    "df[df['# vistas']==df['# vistas'].max()]"
   ]
  },
  {
   "cell_type": "code",
   "execution_count": 55,
   "id": "aa54a2fe",
   "metadata": {},
   "outputs": [
    {
     "data": {
      "text/plain": [
       "5315.0"
      ]
     },
     "execution_count": 55,
     "metadata": {},
     "output_type": "execute_result"
    }
   ],
   "source": [
    "df['# vistas'].median()"
   ]
  },
  {
   "cell_type": "code",
   "execution_count": 58,
   "id": "1d267690",
   "metadata": {},
   "outputs": [
    {
     "data": {
      "text/plain": [
       "(array([9., 6., 1., 0., 1., 1., 1., 0., 0., 1.]),\n",
       " array([  998. ,  4547.7,  8097.4, 11647.1, 15196.8, 18746.5, 22296.2,\n",
       "        25845.9, 29395.6, 32945.3, 36495. ]),\n",
       " <BarContainer object of 10 artists>)"
      ]
     },
     "execution_count": 58,
     "metadata": {},
     "output_type": "execute_result"
    },
    {
     "data": {
      "image/png": "[encoded data removed]",
      "text/plain": [
       "<Figure size 432x288 with 1 Axes>"
      ]
     },
     "metadata": {
      "needs_background": "light"
     },
     "output_type": "display_data"
    }
   ],
   "source": [
    "import matplotlib.pyplot as plot\n",
    "plot.hist(df['# vistas'])"
   ]
  },
  {
   "cell_type": "code",
   "execution_count": null,
   "id": "3b2d8c5a",
   "metadata": {},
   "outputs": [],
   "source": []
  }
 ],
 "metadata": {
  "kernelspec": {
   "display_name": "Python 3 (ipykernel)",
   "language": "python",
   "name": "python3"
  },
  "language_info": {
   "codemirror_mode": {
    "name": "ipython",
    "version": 3
   },
   "file_extension": ".py",
   "mimetype": "text/x-python",
   "name": "python",
   "nbconvert_exporter": "python",
   "pygments_lexer": "ipython3",
   "version": "3.11.5"
  }
 },
 "nbformat": 4,
 "nbformat_minor": 5
}
